{
  "nbformat": 4,
  "nbformat_minor": 0,
  "metadata": {
    "colab": {
      "provenance": [],
      "collapsed_sections": [
        "BeZAyXH3oBqT",
        "RrTcAlHtbWfg",
        "G7iaR7g8l_p4",
        "7UGkZurV4O8y",
        "IwQFjN1o2wSW",
        "Bsy49MiEpbXz",
        "Gmpbkt4Rqdh8",
        "vkU1NHubyZbv",
        "rNaVKDfSuSCv",
        "bz7Kd3lNvGDj",
        "TOBRGxAFqWxe"
      ]
    },
    "kernelspec": {
      "name": "python3",
      "display_name": "Python 3"
    },
    "language_info": {
      "name": "python"
    }
  },
  "cells": [
    {
      "cell_type": "markdown",
      "source": [
        "#$\\color{#d7bb1b}{\\text{Introduction}}$"
      ],
      "metadata": {
        "id": "BeZAyXH3oBqT"
      }
    },
    {
      "cell_type": "markdown",
      "source": [
        "This pipeline clusters fasta files to a desired number of sequences."
      ],
      "metadata": {
        "id": "4hXwwMLPKVMu"
      }
    },
    {
      "cell_type": "markdown",
      "source": [
        "###  Sources:\n",
        "\n",
        "\"CD-HIT: a fast program for clustering and comparing large sets of protein or nucleotide sequences\", Weizhong Li & Adam Godzik. Bioinformatics, (2006) 22:1658-1659\n",
        "\n",
        "\"CD-HIT: accelerated for clustering the next generation sequencing data\", Limin Fu, Beifang Niu, Zhengwei Zhu, Sitao Wu & Weizhong Li. Bioinformatics, (2012) 28:3150-3152\n",
        "\n",
        "R.C. Edgar (2021) \"MUSCLE v5 enables improved estimates of phylogenetic tree confidence by ensemble bootstrapping\"\n",
        "https://www.biorxiv.org/content/10.1101/2021.06.20.449169v1.full.pdf"
      ],
      "metadata": {
        "id": "PWNA1o9ZoF_j"
      }
    },
    {
      "cell_type": "markdown",
      "source": [
        "#$\\color{#17bb1b}{\\text{Setup: G-Drive, BioConda, File}}$"
      ],
      "metadata": {
        "id": "e1CQPRFkpmh3"
      }
    },
    {
      "cell_type": "code",
      "execution_count": null,
      "metadata": {
        "id": "igrdHc7NJ3Zr",
        "outputId": "fa471ed9-6dd5-4a36-9bd4-71cfac65a97c",
        "colab": {
          "base_uri": "https://localhost:8080/"
        }
      },
      "outputs": [
        {
          "output_type": "stream",
          "name": "stdout",
          "text": [
            "env: STORAGE_FILE_PATH=/content/drive/MyDrive/Greene-Lab/CAASS\n"
          ]
        }
      ],
      "source": [
        "# Storage path setup (Enter path of the directory you want to save to)\n",
        "\n",
        "%env STORAGE_FILE_PATH=/content/drive/MyDrive/Greene-Lab/CAASS"
      ]
    },
    {
      "cell_type": "code",
      "execution_count": null,
      "metadata": {
        "id": "aQOezcA5ZrFA",
        "outputId": "0d204a79-fff9-4042-9f8b-1400d2c3211b",
        "colab": {
          "base_uri": "https://localhost:8080/"
        }
      },
      "outputs": [
        {
          "output_type": "stream",
          "name": "stdout",
          "text": [
            "Drive already mounted at /content/drive; to attempt to forcibly remount, call drive.mount(\"/content/drive\", force_remount=True).\n",
            "mkdir: cannot create directory ‘/content/drive/MyDrive/Greene-Lab/CAASS’: File exists\n",
            "mkdir: cannot create directory ‘/content/drive/MyDrive/Greene-Lab/CAASS/input-files’: File exists\n",
            "mkdir: cannot create directory ‘/content/drive/MyDrive/Greene-Lab/CAASS/cleaned-files’: File exists\n",
            "mkdir: cannot create directory ‘/content/drive/MyDrive/Greene-Lab/CAASS/cluster-files’: File exists\n",
            "mkdir: cannot create directory ‘/content/drive/MyDrive/Greene-Lab/CAASS/align-files’: File exists\n",
            "mkdir: cannot create directory ‘/content/drive/MyDrive/Greene-Lab/CAASS/tree-files’: File exists\n",
            "mkdir: cannot create directory ‘/content/drive/MyDrive/Greene-Lab/CAASS/ancestor-files’: File exists\n"
          ]
        }
      ],
      "source": [
        "# Mounts Google Drive. (A pop-up window will appear to ask for permission)\n",
        "\n",
        "from google.colab import drive\n",
        "drive.mount('/content/drive')\n",
        "\n",
        "! mkdir $STORAGE_FILE_PATH\n",
        "! mkdir $STORAGE_FILE_PATH/input-files\n",
        "! mkdir $STORAGE_FILE_PATH/cleaned-files\n",
        "! mkdir $STORAGE_FILE_PATH/cluster-files\n",
        "! mkdir $STORAGE_FILE_PATH/align-files\n",
        "! mkdir $STORAGE_FILE_PATH/tree-files\n",
        "! mkdir $STORAGE_FILE_PATH/ancestor-files"
      ]
    },
    {
      "cell_type": "code",
      "execution_count": null,
      "metadata": {
        "id": "oxEPAO-_wpbz",
        "outputId": "4db32bdf-6c23-4930-e061-24e62bd101ce",
        "colab": {
          "base_uri": "https://localhost:8080/"
        }
      },
      "outputs": [
        {
          "output_type": "stream",
          "name": "stdout",
          "text": [
            "--2023-11-22 01:05:23--  https://repo.anaconda.com/miniconda/Miniconda3-py37_4.8.2-Linux-x86_64.sh\n",
            "Resolving repo.anaconda.com (repo.anaconda.com)... 104.16.130.3, 104.16.131.3, 2606:4700::6810:8203, ...\n",
            "Connecting to repo.anaconda.com (repo.anaconda.com)|104.16.130.3|:443... connected.\n",
            "HTTP request sent, awaiting response... 200 OK\n",
            "Length: 85055499 (81M) [application/x-sh]\n",
            "Saving to: ‘Miniconda3-py37_4.8.2-Linux-x86_64.sh’\n",
            "\n",
            "Miniconda3-py37_4.8 100%[===================>]  81.12M  96.9MB/s    in 0.8s    \n",
            "\n",
            "2023-11-22 01:05:24 (96.9 MB/s) - ‘Miniconda3-py37_4.8.2-Linux-x86_64.sh’ saved [85055499/85055499]\n",
            "\n",
            "PREFIX=/usr/local\n",
            "Unpacking payload ...\n",
            "Collecting package metadata (current_repodata.json): - \b\b\\ \b\bdone\n",
            "Solving environment: / \b\b- \b\bdone\n",
            "\n",
            "## Package Plan ##\n",
            "\n",
            "  environment location: /usr/local\n",
            "\n",
            "  added / updated specs:\n",
            "    - _libgcc_mutex==0.1=main\n",
            "    - asn1crypto==1.3.0=py37_0\n",
            "    - ca-certificates==2020.1.1=0\n",
            "    - certifi==2019.11.28=py37_0\n",
            "    - cffi==1.14.0=py37h2e261b9_0\n",
            "    - chardet==3.0.4=py37_1003\n",
            "    - conda-package-handling==1.6.0=py37h7b6447c_0\n",
            "    - conda==4.8.2=py37_0\n",
            "    - cryptography==2.8=py37h1ba5d50_0\n",
            "    - idna==2.8=py37_0\n",
            "    - ld_impl_linux-64==2.33.1=h53a641e_7\n",
            "    - libedit==3.1.20181209=hc058e9b_0\n",
            "    - libffi==3.2.1=hd88cf55_4\n",
            "    - libgcc-ng==9.1.0=hdf63c60_0\n",
            "    - libstdcxx-ng==9.1.0=hdf63c60_0\n",
            "    - ncurses==6.2=he6710b0_0\n",
            "    - openssl==1.1.1d=h7b6447c_4\n",
            "    - pip==20.0.2=py37_1\n",
            "    - pycosat==0.6.3=py37h7b6447c_0\n",
            "    - pycparser==2.19=py37_0\n",
            "    - pyopenssl==19.1.0=py37_0\n",
            "    - pysocks==1.7.1=py37_0\n",
            "    - python==3.7.6=h0371630_2\n",
            "    - readline==7.0=h7b6447c_5\n",
            "    - requests==2.22.0=py37_1\n",
            "    - ruamel_yaml==0.15.87=py37h7b6447c_0\n",
            "    - setuptools==45.2.0=py37_0\n",
            "    - six==1.14.0=py37_0\n",
            "    - sqlite==3.31.1=h7b6447c_0\n",
            "    - tk==8.6.8=hbc83047_0\n",
            "    - tqdm==4.42.1=py_0\n",
            "    - urllib3==1.25.8=py37_0\n",
            "    - wheel==0.34.2=py37_0\n",
            "    - xz==5.2.4=h14c3975_4\n",
            "    - yaml==0.1.7=had09818_2\n",
            "    - zlib==1.2.11=h7b6447c_3\n",
            "\n",
            "\n",
            "The following NEW packages will be INSTALLED:\n",
            "\n",
            "  _libgcc_mutex      pkgs/main/linux-64::_libgcc_mutex-0.1-main\n",
            "  asn1crypto         pkgs/main/linux-64::asn1crypto-1.3.0-py37_0\n",
            "  ca-certificates    pkgs/main/linux-64::ca-certificates-2020.1.1-0\n",
            "  certifi            pkgs/main/linux-64::certifi-2019.11.28-py37_0\n",
            "  cffi               pkgs/main/linux-64::cffi-1.14.0-py37h2e261b9_0\n",
            "  chardet            pkgs/main/linux-64::chardet-3.0.4-py37_1003\n",
            "  conda              pkgs/main/linux-64::conda-4.8.2-py37_0\n",
            "  conda-package-han~ pkgs/main/linux-64::conda-package-handling-1.6.0-py37h7b6447c_0\n",
            "  cryptography       pkgs/main/linux-64::cryptography-2.8-py37h1ba5d50_0\n",
            "  idna               pkgs/main/linux-64::idna-2.8-py37_0\n",
            "  ld_impl_linux-64   pkgs/main/linux-64::ld_impl_linux-64-2.33.1-h53a641e_7\n",
            "  libedit            pkgs/main/linux-64::libedit-3.1.20181209-hc058e9b_0\n",
            "  libffi             pkgs/main/linux-64::libffi-3.2.1-hd88cf55_4\n",
            "  libgcc-ng          pkgs/main/linux-64::libgcc-ng-9.1.0-hdf63c60_0\n",
            "  libstdcxx-ng       pkgs/main/linux-64::libstdcxx-ng-9.1.0-hdf63c60_0\n",
            "  ncurses            pkgs/main/linux-64::ncurses-6.2-he6710b0_0\n",
            "  openssl            pkgs/main/linux-64::openssl-1.1.1d-h7b6447c_4\n",
            "  pip                pkgs/main/linux-64::pip-20.0.2-py37_1\n",
            "  pycosat            pkgs/main/linux-64::pycosat-0.6.3-py37h7b6447c_0\n",
            "  pycparser          pkgs/main/linux-64::pycparser-2.19-py37_0\n",
            "  pyopenssl          pkgs/main/linux-64::pyopenssl-19.1.0-py37_0\n",
            "  pysocks            pkgs/main/linux-64::pysocks-1.7.1-py37_0\n",
            "  python             pkgs/main/linux-64::python-3.7.6-h0371630_2\n",
            "  readline           pkgs/main/linux-64::readline-7.0-h7b6447c_5\n",
            "  requests           pkgs/main/linux-64::requests-2.22.0-py37_1\n",
            "  ruamel_yaml        pkgs/main/linux-64::ruamel_yaml-0.15.87-py37h7b6447c_0\n",
            "  setuptools         pkgs/main/linux-64::setuptools-45.2.0-py37_0\n",
            "  six                pkgs/main/linux-64::six-1.14.0-py37_0\n",
            "  sqlite             pkgs/main/linux-64::sqlite-3.31.1-h7b6447c_0\n",
            "  tk                 pkgs/main/linux-64::tk-8.6.8-hbc83047_0\n",
            "  tqdm               pkgs/main/noarch::tqdm-4.42.1-py_0\n",
            "  urllib3            pkgs/main/linux-64::urllib3-1.25.8-py37_0\n",
            "  wheel              pkgs/main/linux-64::wheel-0.34.2-py37_0\n",
            "  xz                 pkgs/main/linux-64::xz-5.2.4-h14c3975_4\n",
            "  yaml               pkgs/main/linux-64::yaml-0.1.7-had09818_2\n",
            "  zlib               pkgs/main/linux-64::zlib-1.2.11-h7b6447c_3\n",
            "\n",
            "\n",
            "Preparing transaction: | \b\b/ \b\b- \b\b\\ \b\bdone\n",
            "Executing transaction: / \b\b- \b\b\\ \b\b| \b\b/ \b\b- \b\b\\ \b\b| \b\b/ \b\b- \b\b\\ \b\b| \b\b/ \b\b- \b\b\\ \b\bdone\n",
            "installation finished.\n",
            "WARNING:\n",
            "    You currently have a PYTHONPATH environment variable set. This may cause\n",
            "    unexpected behavior when running the Python interpreter in Miniconda3.\n",
            "    For best results, please verify that your PYTHONPATH only points to\n",
            "    directories of packages that are compatible with the Python interpreter\n",
            "    in Miniconda3: /usr/local\n"
          ]
        }
      ],
      "source": [
        "# Installs Conda package manager.\n",
        "\n",
        "! wget https://repo.anaconda.com/miniconda/Miniconda3-py37_4.8.2-Linux-x86_64.sh\n",
        "! chmod +x Miniconda3-py37_4.8.2-Linux-x86_64.sh\n",
        "! bash ./Miniconda3-py37_4.8.2-Linux-x86_64.sh -b -f -p /usr/local"
      ]
    },
    {
      "cell_type": "code",
      "source": [
        "#@title File Upload\n",
        "#@markdown <b>Input files should be unaligned fastas.</b>\n",
        "\n",
        "#@markdown Auto upload allows upload of only one file at a time.\n",
        "#@markdown A prompt will appear below this code block for you to select your file\n",
        "\n",
        "auto_upload = True #@param {type:\"boolean\"}\n",
        "\n",
        "if(auto_upload):\n",
        "  from google.colab import files\n",
        "  uploaded = files.upload()\n",
        "\n",
        "  for fn in uploaded:\n",
        "    !cp $fn $STORAGE_FILE_PATH/input-files $STORAGE_FILE_PATH/input-files\n",
        "    %env INPUT=$fn\n",
        "    !rm $fn\n",
        "\n",
        "#@markdown If manual upload, upload your input files or into\n",
        "#@markdown /CAASS/input-files on your drive and copy the file name below:\n",
        "\n",
        "else:\n",
        "  file_name = \"\" #@param {type:\"string\"}\n",
        "  %env INPUT=$file_name"
      ],
      "metadata": {
        "id": "IOGxFlDMZXiP"
      },
      "execution_count": null,
      "outputs": []
    },
    {
      "cell_type": "code",
      "source": [
        "! $fn"
      ],
      "metadata": {
        "colab": {
          "base_uri": "https://localhost:8080/"
        },
        "id": "aeYzy_WPkss1",
        "outputId": "85345316-703b-4d4b-d877-38d0e27a7d71"
      },
      "execution_count": null,
      "outputs": [
        {
          "output_type": "stream",
          "name": "stdout",
          "text": [
            "/bin/bash: line 1: fungi_orders_100+_rad51.fasta: command not found\n"
          ]
        }
      ]
    },
    {
      "cell_type": "code",
      "source": [
        "# Initialization of file names for the rest of the pipeline\n",
        "\n",
        "ext = %env INPUT\n",
        "%env CLEANED=cleaned_$ext\n",
        "%env CLUSTERED=clustered_$ext\n",
        "%env ALIGNED=aligned_$ext\n",
        "%env ANCESTRAL=ancestral_$ext\n",
        "%env STRUCTURED=stuctural_$ext\n",
        "\n",
        "tree_ext = ext[:ext.find(\".\")] + \".tre\"\n",
        "%env TREE=tree_$tree_ext"
      ],
      "metadata": {
        "id": "938Gahzp4wd8",
        "colab": {
          "base_uri": "https://localhost:8080/"
        },
        "outputId": "faf4a758-5e22-4914-c873-d21f3f290503"
      },
      "execution_count": null,
      "outputs": [
        {
          "output_type": "stream",
          "name": "stdout",
          "text": [
            "env: CLEANED=cleaned_fungi_orders_100+_rad51.fasta\n",
            "env: CLUSTERED=clustered_fungi_orders_100+_rad51.fasta\n",
            "env: ALIGNED=aligned_fungi_orders_100+_rad51.fasta\n",
            "env: ANCESTRAL=ancestral_fungi_orders_100+_rad51.fasta\n",
            "env: STRUCTURED=stuctural_fungi_orders_100+_rad51.fasta\n",
            "env: TREE=tree_fungi_orders_100+_rad51.tre\n"
          ]
        }
      ]
    },
    {
      "cell_type": "markdown",
      "source": [
        "#$\\color{#1bab8b}{\\text{spaghetti: Clean-up}}$"
      ],
      "metadata": {
        "id": "IwQFjN1o2wSW"
      }
    },
    {
      "cell_type": "code",
      "source": [
        "#@title Processing Options\n",
        "# Initialization\n",
        "path = %env STORAGE_FILE_PATH\n",
        "input = %env INPUT\n",
        "cleaned = %env CLEANED\n",
        "outFile = path + \"/cleaned-files/\" + cleaned\n",
        "inFile = path + \"/input-files/\" + input\n",
        "\n",
        "# reads file into string array\n",
        "text = \"\"\n",
        "with open(inFile, \"r\") as readFile:\n",
        "  for x in readFile:\n",
        "    if bool(x.rstrip()):\n",
        "      text += x\n",
        "    else:\n",
        "      print(\"empty\")\n",
        "\n",
        "lines = text.split(\"\\n\")\n",
        "\n",
        "#@markdown Adds prefix to all sequence headers\n",
        "#@markdown (useful when combining datasets with multiple proteins).\n",
        "#@markdown [blank by default]\n",
        "prefix = \"\" #@param {type: \"string\"}\n",
        "\n",
        "for x in range(len(lines)):\n",
        "  line = lines[x]\n",
        "  try:\n",
        "    if (line[0] == '>'):\n",
        "      lines[x] = \">\" + prefix + \"_\" + line[1:]\n",
        "  except:\n",
        "    print(\"endOfFile\")\n",
        "\n",
        "\n",
        "#@markdown Selecting delete_seqs removes sequences containing \"X\" or \"-\".\n",
        "#@markdown\n",
        "#@markdown Selecting clean_seqs keeps all sequences but deletes instances of \"x\" or \"-\".\n",
        "delete_seqs = False #@param {type:\"boolean\"}\n",
        "clean_seqs = False #@param {type:\"boolean\"}\n",
        "\n",
        "index = 0\n",
        "count = 0\n",
        "new_lines = []\n",
        "\n",
        "if (delete_seqs):\n",
        "  for x in range(int(len(lines)/2)):\n",
        "    header = lines[2*x]\n",
        "    body = lines[2*x+1]\n",
        "    if (body.find('X') == -1 and body.find('-') == -1):\n",
        "      new_lines.append(header)\n",
        "      new_lines.append(body)\n",
        "    else:\n",
        "      count += 1\n",
        "  lines = new_lines\n",
        "  print(\"deleted \" + str(count) + \" seqs for 'X' and '-'\")\n",
        "\n",
        "if (clean_seqs):\n",
        "  for x in range(len(lines)):\n",
        "    line = lines[x]\n",
        "    try:\n",
        "      if (line[0] != '>'):\n",
        "        lines[x] = line.replace(\"X\",\"\").replace(\"-\",\"\")\n",
        "    except:\n",
        "      print(\"endOfFile\")\n",
        "\n",
        "\n",
        "#@markdown Selecting delete_low_q removes sequences labeled as \"LOW-QUALITY\" or\n",
        "#@markdown are the secondary / tertiary isoforms of a given species' protein.\n",
        "delete_low_q = False #@param {type:\"boolean\"}\n",
        "\n",
        "index = 0\n",
        "count = 0\n",
        "new_lines = []\n",
        "\n",
        "if(delete_low_q):\n",
        "  for x in range(int(len(lines)/2)):\n",
        "    header = lines[2*x]\n",
        "    body = lines[2*x+1]\n",
        "    if (header.find(\"X2\") == -1 and header.find(\"X3\") == -1 and header.find(\"LOW\") == -1):\n",
        "        new_lines.append(header)\n",
        "        new_lines.append(body)\n",
        "    else:\n",
        "      count += 1\n",
        "\n",
        "  lines = new_lines\n",
        "  print(\"deleted \" + str(count) + \" low quality or secondary isoform seqs\")\n",
        "\n",
        "#@markdown Selecting lengthen_seqs lengthens human and yeast sequences. (this ensures\n",
        "#@markdown they are representatives during the clustering process)\n",
        "\n",
        "lengthen_seqs = False #@param {type:\"boolean\"}\n",
        "index = 0\n",
        "poly_A_tail = \"AAAAAAAAAAAAAAAAAAAAAAAAAAAAAAAAAAAAAAAAAAAAAAAAAAAAAAAAAAAAAAAAAAAAAAAAAAAAAAAAAAAAAAAAAAAAAAAAAAAAAAAAAAAAAAAAAAAAAAAA\"\n",
        "\n",
        "if(lengthen_seqs):\n",
        "  for x in range(int(len(lines)/2)):\n",
        "    header = lines[2*x]\n",
        "    body = lines[2*x+1]\n",
        "    if (header.lower().find(\"homo sapiens\") != -1 or\n",
        "        header.lower().find(\"saccharomyces cerevisiae\") != -1):\n",
        "      lines[2*x] = header\n",
        "      lines[2*x+1] = body + poly_A_tail\n",
        "\n",
        "\n",
        "#@markdown Selecting concat_header ensures entire headers shows up during tree labeling\n",
        "concat_header = True #@param {type:\"boolean\"}\n",
        "\n",
        "if(concat_header):\n",
        "  for x in range(len(lines)):\n",
        "    if lines[x][0] == '>':\n",
        "      lines[x] = lines[x].replace(\" \",\"-\").replace(\":\",\"\").replace(\"(\",\"\").replace(\")\",\"\")\n",
        "\n",
        "\n",
        "#writes to file\n",
        "with open(outFile, \"w\") as writeFile:\n",
        "  for line in lines:\n",
        "    writeFile.write(line + \"\\n\")"
      ],
      "metadata": {
        "id": "b30pnE8e3Ado",
        "cellView": "form"
      },
      "execution_count": null,
      "outputs": []
    },
    {
      "cell_type": "markdown",
      "source": [
        "#$\\color{#2f7fcf}{\\text{cd-hit: Clustering}}$"
      ],
      "metadata": {
        "id": "FTdGcA_kpUjw"
      }
    },
    {
      "cell_type": "code",
      "source": [
        "# Installs cd-hit\n",
        "a = ! conda list\n",
        "if (a.nlstr.find(\"cd-hit\") == -1):\n",
        "  ! conda install -c bioconda cd-hit -y\n",
        "else:\n",
        "  print(\"cd-hit already installed\")"
      ],
      "metadata": {
        "id": "ujzY2H6amUHG"
      },
      "execution_count": null,
      "outputs": []
    },
    {
      "cell_type": "markdown",
      "source": [
        "## cd-hit runtime"
      ],
      "metadata": {
        "id": "2Fmn1MypnDfe"
      }
    },
    {
      "cell_type": "markdown",
      "source": [
        "Parameter setting for input and output files. The optimal similarity threshold will be found based on the maximum sequence number provided"
      ],
      "metadata": {
        "id": "_FR8mxZBAkzL"
      }
    },
    {
      "cell_type": "code",
      "source": [
        "MAX_CLUSTERS = 10000\n",
        "MIN_THRESHOLD = 0.7\n",
        "MAX_THRESHOLD = 0.98"
      ],
      "metadata": {
        "id": "-zF95YkWyV1V"
      },
      "execution_count": null,
      "outputs": []
    },
    {
      "cell_type": "code",
      "source": [
        "# setup to allow next step\n",
        "%env THRESHOLD = 0\n",
        "def run():\n",
        "  ! eval cd-hit -i $STORAGE_FILE_PATH/cleaned-files/$CLEANED -o $STORAGE_FILE_PATH/cluster-files/$CLUSTERED -c $THRESHOLD"
      ],
      "metadata": {
        "id": "n3c2gR285DtO",
        "colab": {
          "base_uri": "https://localhost:8080/"
        },
        "outputId": "8e8680de-d0c9-4e05-8b15-a74e22b75d38"
      },
      "execution_count": null,
      "outputs": [
        {
          "output_type": "stream",
          "name": "stdout",
          "text": [
            "env: THRESHOLD=0\n"
          ]
        }
      ]
    },
    {
      "cell_type": "code",
      "source": [
        "# captures console output while clustering at various thresholds\n",
        "%%capture c\n",
        "for i in range(int(MIN_THRESHOLD*100), int(MAX_THRESHOLD*100)+1):\n",
        "  a = i/100 # tests thresholds from min to max with increment of 0.01\n",
        "  %env THRESHOLD = $a\n",
        "  run()"
      ],
      "metadata": {
        "id": "rxFWANnFABtN"
      },
      "execution_count": null,
      "outputs": []
    },
    {
      "cell_type": "code",
      "source": [
        "# checks output for cluster number and finds optimal threshold\n",
        "# then overwrites output file with optimal clustering\n",
        "\n",
        "maxi = 0\n",
        "b=0\n",
        "for i in range(int((MAX_THRESHOLD-MIN_THRESHOLD)*100)):\n",
        "  index = c.stdout.find(\"THRESHOLD\",b)\n",
        "  b = c.stdout.find(\"finished\",index)\n",
        "  numOutput = c.stdout[b+16:b+20]\n",
        "  if (int(numOutput) < MAX_CLUSTERS):\n",
        "    maxi = i # finds the most sensitive threshold that generates < MAX_CLUSTERS\n",
        "\n",
        "optimum = MIN_THRESHOLD + maxi*0.01\n",
        "%env THRESHOLD = $optimum\n",
        "\n",
        "! eval cd-hit -i $STORAGE_FILE_PATH/cleaned-files/$CLEANED -o $STORAGE_FILE_PATH/cluster-files/$CLUSTERED -c $THRESHOLD -g 1"
      ],
      "metadata": {
        "id": "QPVqBrAm9yeU"
      },
      "execution_count": null,
      "outputs": []
    },
    {
      "cell_type": "code",
      "source": [
        "! eval cd-hit -i $STORAGE_FILE_PATH/cleaned-files/$CLEANED -o $STORAGE_FILE_PATH/cluster-files/$CLUSTERED -c 0.98 -g 1"
      ],
      "metadata": {
        "colab": {
          "base_uri": "https://localhost:8080/"
        },
        "id": "L5qZac_jQg9S",
        "outputId": "afa0d715-0a1c-41c0-bf3f-946bc3c4d640"
      },
      "execution_count": null,
      "outputs": [
        {
          "output_type": "stream",
          "name": "stdout",
          "text": [
            "================================================================\n",
            "Program: CD-HIT, V4.8.1, Mar 01 2019, 14:14:47\n",
            "Command: cd-hit -i\n",
            "         /content/drive/MyDrive/Greene-Lab/CAASS/cleaned-files/cleaned_Dmc1_1373.fasta\n",
            "         -o\n",
            "         /content/drive/MyDrive/Greene-Lab/CAASS/cluster-files/clustered_Dmc1_1373.fasta\n",
            "         -c 0.98 -g 1\n",
            "\n",
            "Started: Mon Aug  7 18:40:15 2023\n",
            "================================================================\n",
            "                            Output                              \n",
            "----------------------------------------------------------------\n",
            "total seq: 1318\n",
            "longest and shortest : 511 and 279\n",
            "Total letters: 455797\n",
            "Sequences have been sorted\n",
            "\n",
            "Approximated minimal memory consumption:\n",
            "Sequence        : 0M\n",
            "Buffer          : 1 X 10M = 10M\n",
            "Table           : 1 X 65M = 65M\n",
            "Miscellaneous   : 0M\n",
            "Total           : 76M\n",
            "\n",
            "Table limit with the given memory limit:\n",
            "Max number of representatives: 1634696\n",
            "Max number of word counting entries: 90421371\n",
            "\n",
            "\rcomparing sequences from          0  to       1318\n",
            ".\n",
            "     1318  finished        784  clusters\n",
            "\n",
            "Approximated maximum memory consumption: 78M\n",
            "writing new database\n",
            "writing clustering information\n",
            "program completed !\n",
            "\n",
            "Total CPU time 0.43\n"
          ]
        }
      ]
    },
    {
      "cell_type": "code",
      "source": [
        "#@title trim lengthened sequences\n",
        "#@markdown if human and yeast sequences were lengthened in earlier steps,\n",
        "#@markdown they need to be trimmed at this stage before alignment\n",
        "\n",
        "#Initialization\n",
        "clustered = %env CLUSTERED\n",
        "clusterFile = path + \"/cluster-files/\" + clustered\n",
        "\n",
        "\n",
        "trim_seqs = True #@param {type:\"boolean\"}\n",
        "\n",
        "# reads file into string array\n",
        "if(trim_seqs):\n",
        "  text = \"\"\n",
        "  with open(clusterFile, \"r\") as readFile:\n",
        "    for x in readFile:\n",
        "      if bool(x.rstrip()):\n",
        "        text += x\n",
        "\n",
        "  lines = text.split(\"\\n\")\n",
        "\n",
        "  index = 0\n",
        "\n",
        "  for x in range(int(len(lines)/2)):\n",
        "    header = lines[2*x]\n",
        "    body = lines[2*x+1]\n",
        "    if ((header.lower().find(\"sapiens\") != -1 or\n",
        "        header.lower().find(\"cerevisiae\") != -1) and\n",
        "        body[-3:] == 'AAA'):\n",
        "      lines[2*x] = header\n",
        "      lines[2*x+1] = body[:-120] # removes the 120 A's that were added\n",
        "\n",
        "  with open(clusterFile, \"w\") as writeFile:\n",
        "    for line in lines:\n",
        "      writeFile.write(line + \"\\n\")"
      ],
      "metadata": {
        "cellView": "form",
        "id": "IdBRxXthaXHG"
      },
      "execution_count": null,
      "outputs": []
    },
    {
      "cell_type": "markdown",
      "source": [
        "#$\\color{#8b6bbb}{\\text{MUSCLE5: Alignment}}$"
      ],
      "metadata": {
        "id": "Bsy49MiEpbXz"
      }
    },
    {
      "cell_type": "code",
      "source": [
        "# Installs MUSCLE5\n",
        "\n",
        "a = ! conda list\n",
        "if (a.nlstr.find(\"muscle\") == -1):\n",
        "  ! conda install -c bioconda muscle -y\n",
        "else:\n",
        "  print(\"muscle already installed\")"
      ],
      "metadata": {
        "id": "6nEeZhIPV2Sl"
      },
      "execution_count": null,
      "outputs": []
    },
    {
      "cell_type": "code",
      "source": [
        "# EXECUTE THIS IF RUNNING from a folder that's not aligned-files\n",
        "! muscle -in $STORAGE_FILE_PATH/cleaned-files/$CLEANED -out $STORAGE_FILE_PATH/align-files/$ALIGNED"
      ],
      "metadata": {
        "colab": {
          "base_uri": "https://localhost:8080/"
        },
        "id": "4SOGDHULk_hB",
        "outputId": "40d4634b-8d89-4af1-fd21-b796d2433c27"
      },
      "execution_count": null,
      "outputs": [
        {
          "output_type": "stream",
          "name": "stdout",
          "text": [
            "\n",
            "MUSCLE v3.8.1551 by Robert C. Edgar\n",
            "\n",
            "http://www.drive5.com/muscle\n",
            "This software is donated to the public domain.\n",
            "Please cite: Edgar, R.C. Nucleic Acids Res 32(5), 1792-97.\n",
            "\n",
            "cleaned_fungi_orders_100+_rad51 59 seqs, lengths min 333, max 481, avg 351\n",
            "00:00:00     15 MB(4%)  Iter   1    0.06%  K-mer dist pass 1\r00:00:00     15 MB(4%)  Iter   1   28.31%  K-mer dist pass 1\r00:00:00     15 MB(4%)  Iter   1   56.55%  K-mer dist pass 1\r00:00:00     15 MB(4%)  Iter   1   84.80%  K-mer dist pass 1\r00:00:00     15 MB(4%)  Iter   1  100.00%  K-mer dist pass 1\r\n",
            "00:00:00     15 MB(4%)  Iter   1  100.00%  K-mer dist pass 2\n",
            "00:00:01     31 MB(8%)  Iter   1  100.00%  Align node\n",
            "00:00:01     31 MB(8%)  Iter   1  100.00%  Root alignment\n",
            "00:00:01     31 MB(8%)  Iter   2  100.00%  Refine tree\n",
            "00:00:01     31 MB(8%)  Iter   2  100.00%  Root alignment\n",
            "00:00:01     31 MB(8%)  Iter   2  100.00%  Root alignment\n",
            "00:00:01     31 MB(8%)  Iter   3  100.00%  Refine biparts\n",
            "00:00:02     31 MB(8%)  Iter   4  100.00%  Refine biparts\n",
            "00:00:02     31 MB(8%)  Iter   5  100.00%  Refine biparts\n",
            "00:00:02     31 MB(8%)  Iter   5  100.00%  Refine biparts\n",
            "00:00:02     31 MB(8%)  Iter   6  100.00%  Refine biparts\n",
            "00:00:02     31 MB(8%)  Iter   7  100.00%  Refine biparts\n",
            "00:00:02     31 MB(8%)  Iter   8  100.00%  Refine biparts\n",
            "00:00:02     31 MB(8%)  Iter   9  100.00%  Refine biparts\n",
            "00:00:02     31 MB(8%)  Iter  10  100.00%  Refine biparts\n",
            "00:00:02     31 MB(8%)  Iter  11  100.00%  Refine biparts\n",
            "00:00:02     31 MB(8%)  Iter  12  100.00%  Refine biparts\n",
            "00:00:02     31 MB(8%)  Iter  13  100.00%  Refine biparts\n",
            "00:00:02     31 MB(8%)  Iter  14  100.00%  Refine biparts\n",
            "00:00:02     31 MB(8%)  Iter  14  100.00%  Refine biparts\n",
            "00:00:02     31 MB(8%)  Iter  15  100.00%  Refine biparts\n",
            "00:00:02     31 MB(8%)  Iter  16  100.00%  Refine biparts\n",
            "00:00:02     31 MB(8%)  Iter  17  100.00%  Refine biparts\n"
          ]
        }
      ]
    },
    {
      "cell_type": "code",
      "source": [
        "# File Setup\n",
        "ext = %env CLUSTERED\n",
        "%env ALIGNED= aligned_$ext\n",
        "\n",
        "\n",
        "# Run Command\n",
        "! muscle -in $STORAGE_FILE_PATH/cluster-files/$CLUSTERED -out $STORAGE_FILE_PATH/align-files/$ALIGNED"
      ],
      "metadata": {
        "id": "FqSOfPjE0LHd"
      },
      "execution_count": null,
      "outputs": []
    },
    {
      "cell_type": "markdown",
      "source": [
        "#$\\color{#bb5b8b}{\\text{FastTree: Tree Building}}$"
      ],
      "metadata": {
        "id": "rNaVKDfSuSCv"
      }
    },
    {
      "cell_type": "code",
      "source": [
        "# Installs FastTree\n",
        "a = ! conda list\n",
        "if (a.nlstr.find(\"fasttree\") == -1):\n",
        "  ! conda install -c bioconda fasttree -y\n",
        "else:\n",
        "  print(\"fasttree already installed\")"
      ],
      "metadata": {
        "id": "Zwfkrl0ovGDs",
        "colab": {
          "base_uri": "https://localhost:8080/"
        },
        "outputId": "861224fa-654f-4ad0-91da-d98485f1eed6"
      },
      "execution_count": null,
      "outputs": [
        {
          "output_type": "stream",
          "name": "stdout",
          "text": [
            "fasttree already installed\n"
          ]
        }
      ]
    },
    {
      "cell_type": "code",
      "source": [
        "# File Setup (Tree will be generated in .tre format)\n",
        "%env ALIGNED\n",
        "\n",
        "# Run Command\n",
        "! FastTree $STORAGE_FILE_PATH/align-files/$ALIGNED > $STORAGE_FILE_PATH/tree-files/$TREE"
      ],
      "metadata": {
        "id": "MCPOpDKkwklt",
        "colab": {
          "base_uri": "https://localhost:8080/"
        },
        "outputId": "f624bb9e-69f2-4a8b-9c8e-e043b48172d4"
      },
      "execution_count": null,
      "outputs": [
        {
          "output_type": "stream",
          "name": "stdout",
          "text": [
            "FastTree Version 2.1.10 Double precision (No SSE3)\n",
            "Alignment: /content/drive/MyDrive/Greene-Lab/CAASS/align-files/aligned_fungi_orders_100+_rad51.fasta\n",
            "Amino acid distances: BLOSUM45 Joins: balanced Support: SH-like 1000\n",
            "Search: Normal +NNI +SPR (2 rounds range 10) +ML-NNI opt-each=1\n",
            "TopHits: 1.00*sqrtN close=default refresh=0.80\n",
            "ML Model: Jones-Taylor-Thorton, CAT approximation with 20 rate categories\n",
            "Initial topology in 0.05 seconds\n",
            "Refining topology: 24 rounds ME-NNIs, 2 rounds ME-SPRs, 12 rounds ML-NNIs\n",
            "Total branch-length 6.454 after 0.40 sec\n",
            "ML-NNI round 1: LogLk = -16521.509 NNIs 14 max delta 5.27 Time 1.70\n",
            "Switched to using 20 rate categories (CAT approximation)\n",
            "Rate categories were divided by 0.915 so that average rate = 1.0\n",
            "CAT-based log-likelihoods may not be comparable across runs\n",
            "Use -gamma for approximate but comparable Gamma(20) log-likelihoods\n",
            "ML-NNI round 2: LogLk = -14718.530 NNIs 3 max delta 3.73 Time 2.88\n",
            "ML-NNI round 3: LogLk = -14718.416 NNIs 0 max delta 0.00 Time 3.26\n",
            "Turning off heuristics for final round of ML NNIs (converged)\n",
            "ML-NNI round 4: LogLk = -14708.623 NNIs 0 max delta 0.00 Time 4.37 (final)\n",
            "Optimize all lengths: LogLk = -14708.377 Time 4.64\n",
            "Total time: 5.46 seconds Unique: 59/59 Bad splits: 0/56\n"
          ]
        }
      ]
    },
    {
      "cell_type": "markdown",
      "source": [
        "#Extra"
      ],
      "metadata": {
        "id": "TOBRGxAFqWxe"
      }
    },
    {
      "cell_type": "markdown",
      "source": [
        "###Getting status updates from FireProt-ASR"
      ],
      "metadata": {
        "id": "r0Fh3djO7DFW"
      }
    },
    {
      "cell_type": "code",
      "source": [
        "%env ID = dm8y77_16\n",
        "ID = %env ID"
      ],
      "metadata": {
        "colab": {
          "base_uri": "https://localhost:8080/"
        },
        "id": "x3DoZWPH7vYa",
        "outputId": "25117682-dc8f-44ed-e531-6a2b9fbfe8a6"
      },
      "execution_count": null,
      "outputs": [
        {
          "output_type": "stream",
          "name": "stdout",
          "text": [
            "env: ID=dm8y77_16\n"
          ]
        }
      ]
    },
    {
      "cell_type": "code",
      "source": [
        "import requests\n",
        "import pprint as pp\n",
        "site = 'https://loschmidt.chemi.muni.cz/fireprotasr/?action=calculation&job=' + ID + '&'\n",
        "response = requests.get(site)\n",
        "response.text\n",
        "print(response.text)"
      ],
      "metadata": {
        "colab": {
          "base_uri": "https://localhost:8080/"
        },
        "id": "pQ90QZT27nz1",
        "outputId": "24453c99-9a2c-4db0-dcc5-31587800b6d8"
      },
      "execution_count": null,
      "outputs": [
        {
          "output_type": "stream",
          "name": "stdout",
          "text": [
            "<!DOCTYPE HTML PUBLIC \"-//W3C//DTD HTML 4.01 Transitional//EN\">\n",
            "<html>\n",
            "\t<head>\n",
            "\t\t<meta http-equiv=\"content-type\" content=\"text/html; charset=UTF-8\">\n",
            "\t\t<link rel=\"shortcut icon\" type=\"image/x-icon\" href=\"favicon.ico\" />\n",
            "\t\t<link rel=\"icon\" type=\"image/x-icon\" href=\"favicon.ico\" />\n",
            "\t\t<link type=\"text/css\" rel=\"stylesheet\" href=\"FireProtASR.css\">\n",
            "\n",
            "\t\t<title>FireProt-ASR</title>\n",
            "\n",
            "\t\t<script>var isomorphicDir=\"fireprotasr/sc/\";</script>\n",
            "\t\t<script type=\"text/javascript\" language=\"javascript\" src=\"fireprotasr/fireprotasr.nocache.js\"></script>\n",
            "\t\t<script src=\"fireprotasr/sc/initsc.js\" language=\"javascript\"></script>\n",
            "\t\t<script src=\"fireprotasr/sc/modules/ISC_Core.js\"></script>\n",
            "\t\t<script src=\"fireprotasr/sc/modules/ISC_Foundation.js\"></script>\n",
            "\t\t<script src=\"fireprotasr/sc/modules/ISC_Containers.js\"></script>\n",
            "\t\t<script src=\"fireprotasr/sc/modules/ISC_Grids.js\"></script>\n",
            "\t\t<script src=\"fireprotasr/sc/modules/ISC_Forms.js\"></script>\n",
            "\t\t<script src=\"fireprotasr/sc/modules/ISC_RichTextEditor.js\"></script>\n",
            "\t\t<script src=\"fireprotasr/sc/modules/ISC_Calendar.js\"></script>\n",
            "\t\t<script src=\"fireprotasr/sc/modules/ISC_DataBinding.js\"></script>\n",
            "\t\t<script src=\"fireprotasr/sc/modules/ISC_Drawing.js\"></script>\n",
            "\t\t<script src=\"fireprotasr/sc/modules/ISC_Charts.js\"></script>\n",
            "\t\t<script src=\"fireprotasr/sc/skins/Enterprise/load_skin.js\" language=\"javascript\"></script>\n",
            "\n",
            "\t\t<!--<link rel=\"stylesheet\" href=\"//netdna.bootstrapcdn.com/bootstrap/3.3.5/css/bootstrap.min.css\">-->\n",
            "\t\t<link href=\"fireprotasr/phylotree/bootstrap-reduced.css\" rel=\"stylesheet\">\n",
            "\t\t<link href=\"fireprotasr/phylotree/phylotree.css\" rel=\"stylesheet\">\n",
            "\t\t<link rel=\"stylesheet\" href=\"//netdna.bootstrapcdn.com/bootstrap/3.3.5/css/bootstrap-theme.min.css\">\n",
            "\t\t<link rel=\"stylesheet\" href=\"//cdnjs.cloudflare.com/ajax/libs/highlight.js/9.12.0/styles/default.min.css\">\n",
            "\t\t<script src=\"//cdnjs.cloudflare.com/ajax/libs/highlight.js/9.12.0/highlight.min.js\"></script>\n",
            "\t\t<script src=\"//code.jquery.com/jquery.js\"></script>\n",
            "\t\t<script src=\"//netdna.bootstrapcdn.com/bootstrap/3.3.5/js/bootstrap.min.js\"></script>\n",
            "\t\t<script src=\"//d3js.org/d3.v3.min.js\"></script>\n",
            "\t\t<script src=\"fireprotasr/phylotree/main.js\"></script>\n",
            "\t\t<script src=\"https://cdnjs.cloudflare.com/ajax/libs/underscore.js/1.8.3/underscore-min.js\" charset=\"utf-8\"></script>\n",
            "\t\t<script src=\"fireprotasr/phylotree/PhyloTreeWrapper.js\"></script>\n",
            "\t\t<link rel=\"stylesheet\" href=\"fireprotasr/SequenceLogoVis/popup.css\" />\n",
            "\t\t<script type=\"application/javascript\" src=\"fireprotasr/SequenceLogoVis/raphael-min.js\"></script>\n",
            "                <script type=\"application/javascript\" src=\"fireprotasr/SequenceLogoVis/SequenceLogo.js\"></script>\n",
            "                <script src=\"fireprotasr/SequenceLogoVis/SequenceLogoVisWrapper.js\"></script>\n",
            "\n",
            "\t\t<!-- Begin Cookie Consent plugin by Silktide - http://silktide.com/cookieconsent -->\n",
            "\t\t<script type=\"text/javascript\">\n",
            "\t\t\twindow.cookieconsent_options = {\"message\":\"Cookies help us deliver our services. By using our services, you agree to our use of cookies.\",\"dismiss\":\"Got it\",\"learnMore\":\"&nbsp;\",\"link\":\"\",\"theme\":\"dark-bottom\"};\n",
            "\t\t</script>\n",
            "\n",
            "\t\t<script type=\"text/javascript\" src=\"//cdnjs.cloudflare.com/ajax/libs/cookieconsent2/1.0.9/cookieconsent.min.js\"></script>\n",
            "\n",
            "\t\t<style>\n",
            "\t\t\t.cc_message {\n",
            "\t\t\t\tfloat: left;\n",
            "\t\t\t}\n",
            "\t\t\t.cc_container {\n",
            "\t\t\t\tanimation-name: none;\n",
            "\t\t\t}\n",
            "\t\t</style>\n",
            "\t\t<!-- End Cookie Consent plugin -->\n",
            "\t</head>\n",
            "\n",
            "\t<body>\n",
            "\t\t<iframe src=\"javascript:''\" id=\"__gwt_historyFrame\" tabIndex='-1' style=\"position:absolute;width:0;height:0;border:0\"></iframe>\n",
            "\n",
            "\t\t<!-- Piwik -->\n",
            "\t\t<script type=\"text/javascript\">\n",
            "\t\t\tvar _paq = _paq || [];\n",
            "\t\t\t// tracker methods like \"setCustomDimension\" should be called before \"trackPageView\"\n",
            "\t\t\t_paq.push(['trackPageView']);\n",
            "\t\t\t_paq.push(['enableLinkTracking']);\n",
            "\t\t\t(function() {\n",
            "\t\t\t\tvar u=\"//loschmidt.chemi.muni.cz/piwik/\";\n",
            "\t\t\t\t_paq.push(['setTrackerUrl', u+'piwik.php']);\n",
            "\t\t\t\t_paq.push(['setSiteId', '18']);\n",
            "\t\t\t\tvar d=document, g=d.createElement('script'), s=d.getElementsByTagName('script')[0];\n",
            "\t\t\t\tg.type='text/javascript'; g.async=true; g.defer=true; g.src=u+'piwik.js'; s.parentNode.insertBefore(g,s);\n",
            "\t\t\t})();\n",
            "\t\t</script>\n",
            "\t\t<noscript><p><img src=\"//loschmidt.chemi.muni.cz/piwik/piwik.php?idsite=10&rec=1\" style=\"border:0;\" alt=\"\" /></p></noscript>\n",
            "\t\t<!-- End Piwik Code -->\n",
            "\n",
            "\t</body>\n",
            "</html>\n",
            "\n"
          ]
        }
      ]
    },
    {
      "cell_type": "markdown",
      "source": [
        "## post processing"
      ],
      "metadata": {
        "id": "UTTVmZHbPuIc"
      }
    },
    {
      "cell_type": "code",
      "source": [
        "import os\n",
        "try:\n",
        "  os.remove(\"/content/drive/MyDrive/cd-hit-trial/output-files/Copy of 300_clustered_Dmc1.fasta\")\n",
        "except:\n",
        "  print(\"error while deleting file.\")"
      ],
      "metadata": {
        "colab": {
          "base_uri": "https://localhost:8080/"
        },
        "id": "QXwA83apn0sn",
        "outputId": "8abf3a4c-c04b-41d9-a798-5e135199a9fd"
      },
      "execution_count": null,
      "outputs": [
        {
          "output_type": "stream",
          "name": "stdout",
          "text": [
            "error while deleting file.\n"
          ]
        }
      ]
    },
    {
      "cell_type": "code",
      "source": [
        "import math\n",
        "\n",
        "EPSILON = 1e-9\n",
        "\n",
        "def nlogn(c):\n",
        "  max=c\n",
        "  min=0\n",
        "\n",
        "  while min < max:\n",
        "    mid = min + ( (max-min) / 2)\n",
        "    #print(mid)\n",
        "\n",
        "    result = mid * math.log(mid)/math.log(2)\n",
        "    #print(\"max=\" + str(max))\n",
        "    #print(\"min=\" + str(min))\n",
        "    #print(\"result=\" + str(result))\n",
        "\n",
        "    # 3600 > nlogn: shift n up\n",
        "    # 3600 < nlogn: shift n down\n",
        "\n",
        "    if abs(c - result) < EPSILON:\n",
        "      return mid\n",
        "    else:\n",
        "      if c - result < EPSILON:\n",
        "        max = mid\n",
        "      if c - result > EPSILON:\n",
        "        min = mid\n",
        "\n",
        "def runTest(c):\n",
        "\n",
        "  i=1\n",
        "  while i<c:\n",
        "\n",
        "    if 7*(i**3) < (60* i * math.log(i)/math.log(2)):\n",
        "      print(i)\n",
        "\n",
        "    i +=1\n",
        "\n"
      ],
      "metadata": {
        "id": "u9MyK0_fbQjF"
      },
      "execution_count": null,
      "outputs": []
    },
    {
      "cell_type": "code",
      "source": [
        "i = 10\n",
        "print(7*(i**3))\n",
        "print(60* i * (math.log(i)/math.log(2)))\n",
        "print(7*(i**3) < (60* i * (math.log(i)/math.log(2))))"
      ],
      "metadata": {
        "colab": {
          "base_uri": "https://localhost:8080/"
        },
        "id": "95ZDBh6dh-xD",
        "outputId": "734a2990-bde7-46cf-bdad-eca92350d870"
      },
      "execution_count": null,
      "outputs": [
        {
          "output_type": "stream",
          "name": "stdout",
          "text": [
            "7000\n",
            "1993.1568569324177\n",
            "False\n"
          ]
        }
      ]
    },
    {
      "cell_type": "code",
      "source": [
        "runTest(10000)"
      ],
      "metadata": {
        "colab": {
          "base_uri": "https://localhost:8080/"
        },
        "id": "ZKSJmi99gk09",
        "outputId": "a3776eda-4758-4afa-eb14-848511e7a39b"
      },
      "execution_count": null,
      "outputs": [
        {
          "output_type": "stream",
          "name": "stdout",
          "text": [
            "2\n",
            "3\n",
            "4\n"
          ]
        }
      ]
    },
    {
      "cell_type": "code",
      "source": [
        "print(nlogn(7200000))"
      ],
      "metadata": {
        "colab": {
          "base_uri": "https://localhost:8080/"
        },
        "id": "CpZngRcHcUhK",
        "outputId": "1252eb9d-89cd-47bb-a7fa-697f973a11df"
      },
      "execution_count": null,
      "outputs": [
        {
          "output_type": "stream",
          "name": "stdout",
          "text": [
            "387825.54611194285\n"
          ]
        }
      ]
    }
  ]
}