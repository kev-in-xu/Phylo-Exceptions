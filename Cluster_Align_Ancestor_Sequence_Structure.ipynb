{
  "nbformat": 4,
  "nbformat_minor": 0,
  "metadata": {
    "colab": {
      "provenance": [],
      "collapsed_sections": [
        "BeZAyXH3oBqT",
        "RrTcAlHtbWfg",
        "G7iaR7g8l_p4",
        "7UGkZurV4O8y",
        "IwQFjN1o2wSW",
        "Bsy49MiEpbXz",
        "Gmpbkt4Rqdh8",
        "vkU1NHubyZbv",
        "rNaVKDfSuSCv",
        "bz7Kd3lNvGDj",
        "TOBRGxAFqWxe"
      ],
      "mount_file_id": "16YXIaCJfHTJgb-Zn3luaW-9EWghO1oWK",
      "authorship_tag": "ABX9TyPR+dimfhkwpaUkATj5xHKb",
      "include_colab_link": true
    },
    "kernelspec": {
      "name": "python3",
      "display_name": "Python 3"
    },
    "language_info": {
      "name": "python"
    }
  },
  "cells": [
    {
      "cell_type": "markdown",
      "metadata": {
        "id": "view-in-github",
        "colab_type": "text"
      },
      "source": [
        "<a href=\"https://colab.research.google.com/github/kev-in-xu/Phylo-Exceptions/blob/main/Cluster_Align_Ancestor_Sequence_Structure.ipynb\" target=\"_parent\"><img src=\"https://colab.research.google.com/assets/colab-badge.svg\" alt=\"Open In Colab\"/></a>"
      ]
    },
    {
      "cell_type": "markdown",
      "source": [
        "#$\\color{#d7bb1b}{\\text{Introduction}}$"
      ],
      "metadata": {
        "id": "BeZAyXH3oBqT"
      }
    },
    {
      "cell_type": "markdown",
      "source": [
        "This pipeline clusters fasta files to a desired number of sequences."
      ],
      "metadata": {
        "id": "4hXwwMLPKVMu"
      }
    },
    {
      "cell_type": "markdown",
      "source": [
        "###  Sources:\n",
        "\n",
        "\"CD-HIT: a fast program for clustering and comparing large sets of protein or nucleotide sequences\", Weizhong Li & Adam Godzik. Bioinformatics, (2006) 22:1658-1659\n",
        "\n",
        "\"CD-HIT: accelerated for clustering the next generation sequencing data\", Limin Fu, Beifang Niu, Zhengwei Zhu, Sitao Wu & Weizhong Li. Bioinformatics, (2012) 28:3150-3152\n",
        "\n",
        "R.C. Edgar (2021) \"MUSCLE v5 enables improved estimates of phylogenetic tree confidence by ensemble bootstrapping\"\n",
        "https://www.biorxiv.org/content/10.1101/2021.06.20.449169v1.full.pdf"
      ],
      "metadata": {
        "id": "PWNA1o9ZoF_j"
      }
    },
    {
      "cell_type": "markdown",
      "source": [
        "#$\\color{#17bb1b}{\\text{Setup: G-Drive, BioConda, File}}$"
      ],
      "metadata": {
        "id": "e1CQPRFkpmh3"
      }
    },
    {
      "cell_type": "code",
      "execution_count": null,
      "metadata": {
        "id": "igrdHc7NJ3Zr"
      },
      "outputs": [],
      "source": [
        "# Storage path setup (Enter path of the directory you want to save to)\n",
        "\n",
        "%env STORAGE_FILE_PATH=/content/drive/MyDrive/Greene-Lab/CAASS"
      ]
    },
    {
      "cell_type": "code",
      "execution_count": null,
      "metadata": {
        "id": "aQOezcA5ZrFA"
      },
      "outputs": [],
      "source": [
        "# Mounts Google Drive. (A pop-up window will appear to ask for permission)\n",
        "\n",
        "from google.colab import drive\n",
        "drive.mount('/content/drive')\n",
        "\n",
        "! mkdir $STORAGE_FILE_PATH\n",
        "! mkdir $STORAGE_FILE_PATH/input-files\n",
        "! mkdir $STORAGE_FILE_PATH/cleaned-files\n",
        "! mkdir $STORAGE_FILE_PATH/cluster-files\n",
        "! mkdir $STORAGE_FILE_PATH/align-files\n",
        "! mkdir $STORAGE_FILE_PATH/tree-files\n",
        "! mkdir $STORAGE_FILE_PATH/ancestor-files"
      ]
    },
    {
      "cell_type": "code",
      "execution_count": null,
      "metadata": {
        "id": "oxEPAO-_wpbz"
      },
      "outputs": [],
      "source": [
        "# Installs Conda package manager.\n",
        "\n",
        "! wget https://repo.anaconda.com/miniconda/Miniconda3-py37_4.8.2-Linux-x86_64.sh\n",
        "! chmod +x Miniconda3-py37_4.8.2-Linux-x86_64.sh\n",
        "! bash ./Miniconda3-py37_4.8.2-Linux-x86_64.sh -b -f -p /usr/local"
      ]
    },
    {
      "cell_type": "code",
      "source": [
        "#@title File Upload\n",
        "#@markdown <b>Input files should be unaligned fastas.</b>\n",
        "\n",
        "#@markdown Auto upload allows upload of only one file at a time.\n",
        "#@markdown A prompt will appear below this code block for you to select your file\n",
        "\n",
        "auto_upload = True #@param {type:\"boolean\"}\n",
        "\n",
        "if(auto_upload):\n",
        "  from google.colab import files\n",
        "  uploaded = files.upload()\n",
        "\n",
        "  for fn in uploaded:\n",
        "    !cp $fn $STORAGE_FILE_PATH/input-files $STORAGE_FILE_PATH/input-files\n",
        "    %env INPUT=$fn\n",
        "    !rm $fn\n",
        "\n",
        "#@markdown If manual upload, upload your input files or into\n",
        "#@markdown /CAASS/input-files on your drive and copy the file name below:\n",
        "\n",
        "else:\n",
        "  file_name = \"\" #@param {type:\"string\"}\n",
        "  %env INPUT=$file_name"
      ],
      "metadata": {
        "id": "IOGxFlDMZXiP"
      },
      "execution_count": null,
      "outputs": []
    },
    {
      "cell_type": "code",
      "source": [
        "! $fn"
      ],
      "metadata": {
        "id": "aeYzy_WPkss1"
      },
      "execution_count": null,
      "outputs": []
    },
    {
      "cell_type": "code",
      "source": [
        "# Initialization of file names for the rest of the pipeline\n",
        "\n",
        "ext = %env INPUT\n",
        "%env CLEANED=cleaned_$ext\n",
        "%env CLUSTERED=clustered_$ext\n",
        "%env ALIGNED=aligned_$ext\n",
        "%env ANCESTRAL=ancestral_$ext\n",
        "%env STRUCTURED=stuctural_$ext\n",
        "\n",
        "tree_ext = ext[:ext.find(\".\")] + \".tre\"\n",
        "%env TREE=tree_$tree_ext"
      ],
      "metadata": {
        "id": "938Gahzp4wd8"
      },
      "execution_count": null,
      "outputs": []
    },
    {
      "cell_type": "markdown",
      "source": [
        "#$\\color{#1bab8b}{\\text{spaghetti: Clean-up}}$"
      ],
      "metadata": {
        "id": "IwQFjN1o2wSW"
      }
    },
    {
      "cell_type": "code",
      "source": [
        "#@title Processing Options\n",
        "# Initialization\n",
        "path = %env STORAGE_FILE_PATH\n",
        "input = %env INPUT\n",
        "cleaned = %env CLEANED\n",
        "outFile = path + \"/cleaned-files/\" + cleaned\n",
        "inFile = path + \"/input-files/\" + input\n",
        "\n",
        "# reads file into string array\n",
        "text = \"\"\n",
        "with open(inFile, \"r\") as readFile:\n",
        "  for x in readFile:\n",
        "    if bool(x.rstrip()):\n",
        "      text += x\n",
        "    else:\n",
        "      print(\"empty\")\n",
        "\n",
        "lines = text.split(\"\\n\")\n",
        "\n",
        "#@markdown Adds prefix to all sequence headers\n",
        "#@markdown (useful when combining datasets with multiple proteins).\n",
        "#@markdown [blank by default]\n",
        "prefix = \"\" #@param {type: \"string\"}\n",
        "\n",
        "for x in range(len(lines)):\n",
        "  line = lines[x]\n",
        "  try:\n",
        "    if (line[0] == '>'):\n",
        "      lines[x] = \">\" + prefix + \"_\" + line[1:]\n",
        "  except:\n",
        "    print(\"endOfFile\")\n",
        "\n",
        "\n",
        "#@markdown Selecting delete_seqs removes sequences containing \"X\" or \"-\".\n",
        "#@markdown\n",
        "#@markdown Selecting clean_seqs keeps all sequences but deletes instances of \"x\" or \"-\".\n",
        "delete_seqs = False #@param {type:\"boolean\"}\n",
        "clean_seqs = False #@param {type:\"boolean\"}\n",
        "\n",
        "index = 0\n",
        "count = 0\n",
        "new_lines = []\n",
        "\n",
        "if (delete_seqs):\n",
        "  for x in range(int(len(lines)/2)):\n",
        "    header = lines[2*x]\n",
        "    body = lines[2*x+1]\n",
        "    if (body.find('X') == -1 and body.find('-') == -1):\n",
        "      new_lines.append(header)\n",
        "      new_lines.append(body)\n",
        "    else:\n",
        "      count += 1\n",
        "  lines = new_lines\n",
        "  print(\"deleted \" + str(count) + \" seqs for 'X' and '-'\")\n",
        "\n",
        "if (clean_seqs):\n",
        "  for x in range(len(lines)):\n",
        "    line = lines[x]\n",
        "    try:\n",
        "      if (line[0] != '>'):\n",
        "        lines[x] = line.replace(\"X\",\"\").replace(\"-\",\"\")\n",
        "    except:\n",
        "      print(\"endOfFile\")\n",
        "\n",
        "\n",
        "#@markdown Selecting delete_low_q removes sequences labeled as \"LOW-QUALITY\" or\n",
        "#@markdown are the secondary / tertiary isoforms of a given species' protein.\n",
        "delete_low_q = False #@param {type:\"boolean\"}\n",
        "\n",
        "index = 0\n",
        "count = 0\n",
        "new_lines = []\n",
        "\n",
        "if(delete_low_q):\n",
        "  for x in range(int(len(lines)/2)):\n",
        "    header = lines[2*x]\n",
        "    body = lines[2*x+1]\n",
        "    if (header.find(\"X2\") == -1 and header.find(\"X3\") == -1 and header.find(\"LOW\") == -1):\n",
        "        new_lines.append(header)\n",
        "        new_lines.append(body)\n",
        "    else:\n",
        "      count += 1\n",
        "\n",
        "  lines = new_lines\n",
        "  print(\"deleted \" + str(count) + \" low quality or secondary isoform seqs\")\n",
        "\n",
        "#@markdown Selecting lengthen_seqs lengthens human and yeast sequences. (this ensures\n",
        "#@markdown they are representatives during the clustering process)\n",
        "\n",
        "lengthen_seqs = False #@param {type:\"boolean\"}\n",
        "index = 0\n",
        "poly_A_tail = \"AAAAAAAAAAAAAAAAAAAAAAAAAAAAAAAAAAAAAAAAAAAAAAAAAAAAAAAAAAAAAAAAAAAAAAAAAAAAAAAAAAAAAAAAAAAAAAAAAAAAAAAAAAAAAAAAAAAAAAAA\"\n",
        "\n",
        "if(lengthen_seqs):\n",
        "  for x in range(int(len(lines)/2)):\n",
        "    header = lines[2*x]\n",
        "    body = lines[2*x+1]\n",
        "    if (header.lower().find(\"homo sapiens\") != -1 or\n",
        "        header.lower().find(\"saccharomyces cerevisiae\") != -1):\n",
        "      lines[2*x] = header\n",
        "      lines[2*x+1] = body + poly_A_tail\n",
        "\n",
        "\n",
        "#@markdown Selecting concat_header ensures entire headers shows up during tree labeling\n",
        "concat_header = True #@param {type:\"boolean\"}\n",
        "\n",
        "if(concat_header):\n",
        "  for x in range(len(lines)):\n",
        "    if lines[x][0] == '>':\n",
        "      lines[x] = lines[x].replace(\" \",\"-\").replace(\":\",\"\").replace(\"(\",\"\").replace(\")\",\"\")\n",
        "\n",
        "\n",
        "#writes to file\n",
        "with open(outFile, \"w\") as writeFile:\n",
        "  for line in lines:\n",
        "    writeFile.write(line + \"\\n\")"
      ],
      "metadata": {
        "id": "b30pnE8e3Ado",
        "cellView": "form"
      },
      "execution_count": null,
      "outputs": []
    },
    {
      "cell_type": "markdown",
      "source": [
        "#$\\color{#2f7fcf}{\\text{cd-hit: Clustering}}$"
      ],
      "metadata": {
        "id": "FTdGcA_kpUjw"
      }
    },
    {
      "cell_type": "code",
      "source": [
        "# Installs cd-hit\n",
        "a = ! conda list\n",
        "if (a.nlstr.find(\"cd-hit\") == -1):\n",
        "  ! conda install -c bioconda cd-hit -y\n",
        "else:\n",
        "  print(\"cd-hit already installed\")"
      ],
      "metadata": {
        "id": "ujzY2H6amUHG"
      },
      "execution_count": null,
      "outputs": []
    },
    {
      "cell_type": "markdown",
      "source": [
        "## cd-hit runtime"
      ],
      "metadata": {
        "id": "2Fmn1MypnDfe"
      }
    },
    {
      "cell_type": "markdown",
      "source": [
        "Parameter setting for input and output files. The optimal similarity threshold will be found based on the maximum sequence number provided"
      ],
      "metadata": {
        "id": "_FR8mxZBAkzL"
      }
    },
    {
      "cell_type": "code",
      "source": [
        "MAX_CLUSTERS = 10000\n",
        "MIN_THRESHOLD = 0.7\n",
        "MAX_THRESHOLD = 0.98"
      ],
      "metadata": {
        "id": "-zF95YkWyV1V"
      },
      "execution_count": null,
      "outputs": []
    },
    {
      "cell_type": "code",
      "source": [
        "# setup to allow next step\n",
        "%env THRESHOLD = 0\n",
        "def run():\n",
        "  ! eval cd-hit -i $STORAGE_FILE_PATH/cleaned-files/$CLEANED -o $STORAGE_FILE_PATH/cluster-files/$CLUSTERED -c $THRESHOLD"
      ],
      "metadata": {
        "id": "n3c2gR285DtO"
      },
      "execution_count": null,
      "outputs": []
    },
    {
      "cell_type": "code",
      "source": [
        "# captures console output while clustering at various thresholds\n",
        "%%capture c\n",
        "for i in range(int(MIN_THRESHOLD*100), int(MAX_THRESHOLD*100)+1):\n",
        "  a = i/100 # tests thresholds from min to max with increment of 0.01\n",
        "  %env THRESHOLD = $a\n",
        "  run()"
      ],
      "metadata": {
        "id": "rxFWANnFABtN"
      },
      "execution_count": null,
      "outputs": []
    },
    {
      "cell_type": "code",
      "source": [
        "# checks output for cluster number and finds optimal threshold\n",
        "# then overwrites output file with optimal clustering\n",
        "\n",
        "maxi = 0\n",
        "b=0\n",
        "for i in range(int((MAX_THRESHOLD-MIN_THRESHOLD)*100)):\n",
        "  index = c.stdout.find(\"THRESHOLD\",b)\n",
        "  b = c.stdout.find(\"finished\",index)\n",
        "  numOutput = c.stdout[b+16:b+20]\n",
        "  if (int(numOutput) < MAX_CLUSTERS):\n",
        "    maxi = i # finds the most sensitive threshold that generates < MAX_CLUSTERS\n",
        "\n",
        "optimum = MIN_THRESHOLD + maxi*0.01\n",
        "%env THRESHOLD = $optimum\n",
        "\n",
        "! eval cd-hit -i $STORAGE_FILE_PATH/cleaned-files/$CLEANED -o $STORAGE_FILE_PATH/cluster-files/$CLUSTERED -c $THRESHOLD -g 1"
      ],
      "metadata": {
        "id": "QPVqBrAm9yeU"
      },
      "execution_count": null,
      "outputs": []
    },
    {
      "cell_type": "code",
      "source": [
        "! eval cd-hit -i $STORAGE_FILE_PATH/cleaned-files/$CLEANED -o $STORAGE_FILE_PATH/cluster-files/$CLUSTERED -c 0.98 -g 1"
      ],
      "metadata": {
        "id": "L5qZac_jQg9S"
      },
      "execution_count": null,
      "outputs": []
    },
    {
      "cell_type": "code",
      "source": [
        "#@title trim lengthened sequences\n",
        "#@markdown if human and yeast sequences were lengthened in earlier steps,\n",
        "#@markdown they need to be trimmed at this stage before alignment\n",
        "\n",
        "#Initialization\n",
        "clustered = %env CLUSTERED\n",
        "clusterFile = path + \"/cluster-files/\" + clustered\n",
        "\n",
        "\n",
        "trim_seqs = True #@param {type:\"boolean\"}\n",
        "\n",
        "# reads file into string array\n",
        "if(trim_seqs):\n",
        "  text = \"\"\n",
        "  with open(clusterFile, \"r\") as readFile:\n",
        "    for x in readFile:\n",
        "      if bool(x.rstrip()):\n",
        "        text += x\n",
        "\n",
        "  lines = text.split(\"\\n\")\n",
        "\n",
        "  index = 0\n",
        "\n",
        "  for x in range(int(len(lines)/2)):\n",
        "    header = lines[2*x]\n",
        "    body = lines[2*x+1]\n",
        "    if ((header.lower().find(\"sapiens\") != -1 or\n",
        "        header.lower().find(\"cerevisiae\") != -1) and\n",
        "        body[-3:] == 'AAA'):\n",
        "      lines[2*x] = header\n",
        "      lines[2*x+1] = body[:-120] # removes the 120 A's that were added\n",
        "\n",
        "  with open(clusterFile, \"w\") as writeFile:\n",
        "    for line in lines:\n",
        "      writeFile.write(line + \"\\n\")"
      ],
      "metadata": {
        "cellView": "form",
        "id": "IdBRxXthaXHG"
      },
      "execution_count": null,
      "outputs": []
    },
    {
      "cell_type": "markdown",
      "source": [
        "#$\\color{#8b6bbb}{\\text{MUSCLE5: Alignment}}$"
      ],
      "metadata": {
        "id": "Bsy49MiEpbXz"
      }
    },
    {
      "cell_type": "code",
      "source": [
        "# Installs MUSCLE5\n",
        "\n",
        "a = ! conda list\n",
        "if (a.nlstr.find(\"muscle\") == -1):\n",
        "  ! conda install -c bioconda muscle -y\n",
        "else:\n",
        "  print(\"muscle already installed\")"
      ],
      "metadata": {
        "id": "6nEeZhIPV2Sl"
      },
      "execution_count": null,
      "outputs": []
    },
    {
      "cell_type": "code",
      "source": [
        "# EXECUTE THIS IF RUNNING from a folder that's not aligned-files\n",
        "! muscle -in $STORAGE_FILE_PATH/cleaned-files/$CLEANED -out $STORAGE_FILE_PATH/align-files/$ALIGNED"
      ],
      "metadata": {
        "id": "4SOGDHULk_hB"
      },
      "execution_count": null,
      "outputs": []
    },
    {
      "cell_type": "code",
      "source": [
        "# File Setup\n",
        "ext = %env CLUSTERED\n",
        "%env ALIGNED= aligned_$ext\n",
        "\n",
        "\n",
        "# Run Command\n",
        "! muscle -in $STORAGE_FILE_PATH/cluster-files/$CLUSTERED -out $STORAGE_FILE_PATH/align-files/$ALIGNED"
      ],
      "metadata": {
        "id": "FqSOfPjE0LHd"
      },
      "execution_count": null,
      "outputs": []
    },
    {
      "cell_type": "markdown",
      "source": [
        "#$\\color{#bb5b8b}{\\text{FastTree: Tree Building}}$"
      ],
      "metadata": {
        "id": "rNaVKDfSuSCv"
      }
    },
    {
      "cell_type": "code",
      "source": [
        "# Installs FastTree\n",
        "a = ! conda list\n",
        "if (a.nlstr.find(\"fasttree\") == -1):\n",
        "  ! conda install -c bioconda fasttree -y\n",
        "else:\n",
        "  print(\"fasttree already installed\")"
      ],
      "metadata": {
        "id": "Zwfkrl0ovGDs"
      },
      "execution_count": null,
      "outputs": []
    },
    {
      "cell_type": "code",
      "source": [
        "# File Setup (Tree will be generated in .tre format)\n",
        "%env ALIGNED\n",
        "\n",
        "# Run Command\n",
        "! FastTree $STORAGE_FILE_PATH/align-files/$ALIGNED > $STORAGE_FILE_PATH/tree-files/$TREE"
      ],
      "metadata": {
        "id": "MCPOpDKkwklt"
      },
      "execution_count": null,
      "outputs": []
    },
    {
      "cell_type": "markdown",
      "source": [
        "#Extra"
      ],
      "metadata": {
        "id": "TOBRGxAFqWxe"
      }
    },
    {
      "cell_type": "markdown",
      "source": [
        "###Getting status updates from FireProt-ASR"
      ],
      "metadata": {
        "id": "r0Fh3djO7DFW"
      }
    },
    {
      "cell_type": "code",
      "source": [
        "%env ID = dm8y77_16\n",
        "ID = %env ID"
      ],
      "metadata": {
        "id": "x3DoZWPH7vYa"
      },
      "execution_count": null,
      "outputs": []
    },
    {
      "cell_type": "code",
      "source": [
        "import requests\n",
        "import pprint as pp\n",
        "site = 'https://loschmidt.chemi.muni.cz/fireprotasr/?action=calculation&job=' + ID + '&'\n",
        "response = requests.get(site)\n",
        "response.text\n",
        "print(response.text)"
      ],
      "metadata": {
        "id": "pQ90QZT27nz1"
      },
      "execution_count": null,
      "outputs": []
    },
    {
      "cell_type": "markdown",
      "source": [
        "## post processing"
      ],
      "metadata": {
        "id": "UTTVmZHbPuIc"
      }
    },
    {
      "cell_type": "code",
      "source": [
        "import os\n",
        "try:\n",
        "  os.remove(\"/content/drive/MyDrive/cd-hit-trial/output-files/Copy of 300_clustered_Dmc1.fasta\")\n",
        "except:\n",
        "  print(\"error while deleting file.\")"
      ],
      "metadata": {
        "id": "QXwA83apn0sn"
      },
      "execution_count": null,
      "outputs": []
    }
  ]
}